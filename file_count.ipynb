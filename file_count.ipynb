{
 "cells": [
  {
   "cell_type": "code",
   "execution_count": 5,
   "metadata": {
    "collapsed": true
   },
   "outputs": [],
   "source": [
    "from pathlib import Path\n",
    "\n",
    "PATH = '/home/sin/p/code/VSGNet/All_data/'\n",
    "PATH = Path(PATH)\n"
   ]
  },
  {
   "cell_type": "code",
   "execution_count": 1,
   "outputs": [
    {
     "ename": "NameError",
     "evalue": "name 'PATH' is not defined",
     "output_type": "error",
     "traceback": [
      "\u001B[0;31m---------------------------------------------------------------------------\u001B[0m",
      "\u001B[0;31mNameError\u001B[0m                                 Traceback (most recent call last)",
      "\u001B[0;32m<ipython-input-1-88c1a8d0ba68>\u001B[0m in \u001B[0;36m<module>\u001B[0;34m\u001B[0m\n\u001B[1;32m      1\u001B[0m data_path = {i.name.split('_')[1] :\n\u001B[0;32m----> 2\u001B[0;31m                  i for i in list(PATH.glob('Data*'))}\n\u001B[0m\u001B[1;32m      3\u001B[0m \u001B[0mdata_path\u001B[0m\u001B[0;34m\u001B[0m\u001B[0;34m\u001B[0m\u001B[0m\n\u001B[1;32m      4\u001B[0m \u001B[0;34m\u001B[0m\u001B[0m\n",
      "\u001B[0;31mNameError\u001B[0m: name 'PATH' is not defined"
     ]
    }
   ],
   "source": [
    "data_path = {i.name.split('_')[1] :\n",
    "                 i for i in list(PATH.glob('Data*'))}\n",
    "data_path"
   ],
   "metadata": {
    "collapsed": false,
    "pycharm": {
     "name": "#%%\n"
    }
   }
  },
  {
   "cell_type": "code",
   "execution_count": 40,
   "outputs": [
    {
     "name": "stdout",
     "output_type": "stream",
     "text": [
      "{'train2015': PosixPath('/home/sin/p/code/VSGNet/All_data/Data_hico/train2015'), 'test2015': PosixPath('/home/sin/p/code/VSGNet/All_data/Data_hico/test2015')}\n",
      "{'val2014': PosixPath('/home/sin/p/code/VSGNet/All_data/Data_vcoco/val2014'), 'train2014': PosixPath('/home/sin/p/code/VSGNet/All_data/Data_vcoco/train2014')}\n"
     ]
    }
   ],
   "source": [
    "hico_data = {i.name:i\n",
    "             for i in data_path['hico'].glob('*')}\n",
    "vcoco_data = {i.name:i\n",
    "             for i in data_path['vcoco'].glob('*')}\n",
    "\n",
    "print(hico_data)\n",
    "print(vcoco_data)"
   ],
   "metadata": {
    "collapsed": false,
    "pycharm": {
     "name": "#%%\n"
    }
   }
  },
  {
   "cell_type": "code",
   "execution_count": 49,
   "outputs": [
    {
     "name": "stdout",
     "output_type": "stream",
     "text": [
      "train2015\n",
      "38118\n",
      "test2015\n",
      "9658\n"
     ]
    }
   ],
   "source": [
    "for key, data in hico_data.items():\n",
    "    print(key)\n",
    "    print(len(list(data.glob('*'))))"
   ],
   "metadata": {
    "collapsed": false,
    "pycharm": {
     "name": "#%%\n"
    }
   }
  },
  {
   "cell_type": "code",
   "execution_count": 50,
   "outputs": [
    {
     "name": "stdout",
     "output_type": "stream",
     "text": [
      "val2014\n",
      "4946\n",
      "train2014\n",
      "5400\n"
     ]
    }
   ],
   "source": [
    "for key, data in vcoco_data.items():\n",
    "    print(key)\n",
    "    print(len(list(data.glob('*'))))"
   ],
   "metadata": {
    "collapsed": false,
    "pycharm": {
     "name": "#%%\n"
    }
   }
  },
  {
   "cell_type": "code",
   "execution_count": null,
   "outputs": [],
   "source": [],
   "metadata": {
    "collapsed": false,
    "pycharm": {
     "name": "#%%\n"
    }
   }
  }
 ],
 "metadata": {
  "kernelspec": {
   "display_name": "Python 3",
   "language": "python",
   "name": "python3"
  },
  "language_info": {
   "codemirror_mode": {
    "name": "ipython",
    "version": 2
   },
   "file_extension": ".py",
   "mimetype": "text/x-python",
   "name": "python",
   "nbconvert_exporter": "python",
   "pygments_lexer": "ipython2",
   "version": "2.7.6"
  }
 },
 "nbformat": 4,
 "nbformat_minor": 0
}