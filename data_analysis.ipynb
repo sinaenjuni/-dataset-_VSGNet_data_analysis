{
 "cells": [
  {
   "cell_type": "code",
   "execution_count": 69,
   "metadata": {
    "collapsed": true
   },
   "outputs": [],
   "source": [
    "from pathlib import Path\n",
    "import json\n",
    "import numpy as np\n",
    "import matplotlib.pyplot as plt\n",
    "import cv2\n",
    "import pandas as pd\n",
    "import copy\n",
    "\n",
    "def loadJson(path:Path):\n",
    "    with open(str(path), 'r') as f:\n",
    "        json_file = json.loads(f.read())\n",
    "    return json_file\n"
   ]
  },
  {
   "cell_type": "code",
   "execution_count": 16,
   "outputs": [
    {
     "name": "stdout",
     "output_type": "stream",
     "text": [
      "/home/sin/p/code/VSGNet_data_analysis\n"
     ]
    }
   ],
   "source": [
    "\n",
    "ALLPATH = '/home/sin/p/code/VSGNet/All_data'\n",
    "ALLPATH = Path(ALLPATH)\n",
    "SAVEPATH = '/home/sin/p/code/VSGNet_data_analysis'\n",
    "SAVEPATH = Path(SAVEPATH)\n",
    "print(SAVEPATH)\n",
    "\n",
    "vcoco_path = {path.name.split('_')[0] : path for path in ALLPATH.glob('Anno*vcoco/*')}\n",
    "hico_path = {path.name.split('_')[0] : path for path in ALLPATH.glob('Anno*hico/*')}"
   ],
   "metadata": {
    "collapsed": false,
    "pycharm": {
     "name": "#%%\n"
    }
   }
  },
  {
   "cell_type": "code",
   "execution_count": 17,
   "outputs": [
    {
     "data": {
      "text/plain": "{'test': PosixPath('/home/sin/p/code/VSGNet/All_data/Annotations_vcoco/test_annotations.json'),\n 'train': PosixPath('/home/sin/p/code/VSGNet/All_data/Annotations_vcoco/train_annotations.json'),\n 'val': PosixPath('/home/sin/p/code/VSGNet/All_data/Annotations_vcoco/val_annotations.json')}"
     },
     "execution_count": 17,
     "metadata": {},
     "output_type": "execute_result"
    }
   ],
   "source": [
    "vcoco_path"
   ],
   "metadata": {
    "collapsed": false,
    "pycharm": {
     "name": "#%%\n"
    }
   }
  },
  {
   "cell_type": "code",
   "execution_count": 18,
   "outputs": [
    {
     "data": {
      "text/plain": "{'test': PosixPath('/home/sin/p/code/VSGNet/All_data/Annotations_hico/test_annotations.json'),\n 'train': PosixPath('/home/sin/p/code/VSGNet/All_data/Annotations_hico/train_annotations.json')}"
     },
     "execution_count": 18,
     "metadata": {},
     "output_type": "execute_result"
    }
   ],
   "source": [
    "hico_path"
   ],
   "metadata": {
    "collapsed": false,
    "pycharm": {
     "name": "#%%\n"
    }
   }
  },
  {
   "cell_type": "code",
   "execution_count": 18,
   "outputs": [
    {
     "data": {
      "text/plain": "{}"
     },
     "execution_count": 18,
     "metadata": {},
     "output_type": "execute_result"
    }
   ],
   "source": [],
   "metadata": {
    "collapsed": false,
    "pycharm": {
     "name": "#%%\n"
    }
   }
  },
  {
   "cell_type": "code",
   "execution_count": 103,
   "outputs": [
    {
     "name": "stdout",
     "output_type": "stream",
     "text": [
      "test\n",
      "4946\n",
      "train\n",
      "2533\n",
      "val\n",
      "2867\n"
     ]
    }
   ],
   "source": [
    "for fname, file in list(vcoco_path.items()):\n",
    "    print(fname)\n",
    "    jfile = loadJson(str(file))\n",
    "    print(len(jfile.keys()))\n",
    "\n",
    "    ret = pd.DataFrame()\n",
    "\n",
    "    for key, vals in list(jfile.items()):\n",
    "        # for val in vals:\n",
    "        #     print(key, val)\n",
    "            # dic = {'img_name':key, **(val)}\n",
    "            # dic = pd.DataFrame.from_dict(dic)\n",
    "            #\n",
    "            # print(dic)\n",
    "        # if key == '385154':\n",
    "\n",
    "        dic = {'img_name' : key}\n",
    "        # print(key)\n",
    "        _ret = pd.Series(dic)\n",
    "\n",
    "\n",
    "        for val in vals:\n",
    "            # print(val)\n",
    "            dicpop = copy.deepcopy(val)\n",
    "            dicpop.pop('object')\n",
    "            dic.update(**(dicpop))\n",
    "            dic.update(val['object'])\n",
    "\n",
    "            # print(dic)\n",
    "            _ret = pd.Series(dic)\n",
    "            ret = ret.append(_ret, ignore_index=True)\n",
    "\n",
    "        if len(vals) ==0:\n",
    "            _ret = pd.Series(dic)\n",
    "            ret = ret.append(_ret, ignore_index=True)\n",
    "\n",
    "    ret.to_csv(SAVEPATH/f'vcoco_{fname}.csv')"
   ],
   "metadata": {
    "collapsed": false,
    "pycharm": {
     "name": "#%%\n"
    }
   }
  },
  {
   "cell_type": "code",
   "execution_count": 104,
   "outputs": [
    {
     "name": "stdout",
     "output_type": "stream",
     "text": [
      "test\n",
      "9658\n",
      "train\n",
      "38118\n"
     ]
    }
   ],
   "source": [
    "for fname, file in list(hico_path.items()):\n",
    "    print(fname)\n",
    "    jfile = loadJson(str(file))\n",
    "    print(len(jfile.keys()))\n",
    "\n",
    "    ret = pd.DataFrame()\n",
    "\n",
    "    for key, vals in list(jfile.items()):\n",
    "        # for val in vals:\n",
    "        #     print(key, val)\n",
    "            # dic = {'img_name':key, **(val)}\n",
    "            # dic = pd.DataFrame.from_dict(dic)\n",
    "            #\n",
    "            # print(dic)\n",
    "        # if key == '385154':\n",
    "\n",
    "        dic = {'img_name' : key}\n",
    "        # print(key)\n",
    "        _ret = pd.Series(dic)\n",
    "\n",
    "\n",
    "        for val in vals:\n",
    "            # print(val)\n",
    "            dicpop = copy.deepcopy(val)\n",
    "            dicpop.pop('object')\n",
    "            dic.update(**(dicpop))\n",
    "            dic.update(val['object'])\n",
    "\n",
    "            # print(dic)\n",
    "            _ret = pd.Series(dic)\n",
    "            ret = ret.append(_ret, ignore_index=True)\n",
    "\n",
    "        if len(vals) ==0:\n",
    "            _ret = pd.Series(dic)\n",
    "            ret = ret.append(_ret, ignore_index=True)\n",
    "\n",
    "    ret.to_csv(SAVEPATH/f'hico_{fname}.csv')\n",
    "\n",
    "\n"
   ],
   "metadata": {
    "collapsed": false,
    "pycharm": {
     "name": "#%%\n"
    }
   }
  },
  {
   "cell_type": "code",
   "execution_count": null,
   "outputs": [],
   "source": [
    "for key, file in list(hico_file.items())[:3]:\n",
    "    print(key, file)\n",
    "    jfile = loadJson(str(file))\n",
    "    print(len(jfile.keys()))"
   ],
   "metadata": {
    "collapsed": false,
    "pycharm": {
     "name": "#%%\n"
    }
   }
  },
  {
   "cell_type": "code",
   "execution_count": null,
   "outputs": [],
   "source": [
    "anno_files = {}\n",
    "\n",
    "for name, path in list(path_dict.items()):\n",
    "    # print(name, path)\n",
    "    for inner_path in path.iterdir():\n",
    "        fname = name + '_' + inner_path.name.split('_')[0]\n",
    "\n",
    "        print(fname, inner_path)\n",
    "\n",
    "        anno_files[fname] = loadJson(inner_path)\n"
   ],
   "metadata": {
    "collapsed": false,
    "pycharm": {
     "name": "#%%\n"
    }
   }
  },
  {
   "cell_type": "code",
   "execution_count": null,
   "outputs": [],
   "source": [
    "print(anno_files.keys())\n",
    "\n",
    "for type, file in list(anno_files.items()):\n",
    "    ret = pd.DataFrame()\n",
    "    print(type)\n",
    "    for name, annos in list(file.items())[:1]:\n",
    "        # _ret = pd.DataFrame()\n",
    "        print(name, end='\\r')\n",
    "\n",
    "        for anno in annos:\n",
    "            print(anno)\n",
    "#             _ret = _ret.append({'name':name, **(anno), **(anno['object'])}, ignore_index=True)\n",
    "#             _ret = _ret.drop('object', axis=1)\n",
    "#         ret = ret.append(_ret, ignore_index=True)\n",
    "# #\n",
    "# #\n",
    "#     ret.to_csv(str(SAVEPATH/f'{type}.csv'))\n",
    "    # print(ret)"
   ],
   "metadata": {
    "collapsed": false,
    "pycharm": {
     "name": "#%%\n"
    }
   }
  },
  {
   "cell_type": "code",
   "execution_count": 111,
   "outputs": [
    {
     "name": "stdout",
     "output_type": "stream",
     "text": [
      "vcoco_test.csv\n",
      "Index(['Unnamed: 0', 'Verbs', 'img_name', 'obj_bbx', 'person_bbx'], dtype='object')\n",
      "number of file 4946\n",
      "number of hoi 22362\n",
      "number of verb 30\n",
      "number of verb top 10 stand               4118\n",
      "hold                3608\n",
      "look                3347\n",
      "sit                 1916\n",
      "smile               1415\n",
      "run                  687\n",
      "jump                 635\n",
      "walk                 597\n",
      "ride                 556\n",
      "surf                 486\n",
      "carry                472\n",
      "ski                  424\n",
      "skateboard           417\n",
      "work_on_computer     410\n",
      "lay                  387\n",
      "eat_obj              334\n",
      "hit_instr            315\n",
      "talk_on_phone        285\n",
      "snowboard            277\n",
      "catch                246\n",
      "Name: Verbs, dtype: int64\n",
      "number of verb worst 10 surf                486\n",
      "carry               472\n",
      "ski                 424\n",
      "skateboard          417\n",
      "work_on_computer    410\n",
      "lay                 387\n",
      "eat_obj             334\n",
      "hit_instr           315\n",
      "talk_on_phone       285\n",
      "snowboard           277\n",
      "catch               246\n",
      "throw               244\n",
      "cut_instr           230\n",
      "hit_obj             226\n",
      "cut_obj             203\n",
      "kick                180\n",
      "read                111\n",
      "eat_instr           100\n",
      "drink                82\n",
      "point                31\n",
      "Name: Verbs, dtype: int64\n",
      "hico_train.csv\n",
      "Index(['Unnamed: 0', 'Verbs', 'img_name', 'obj_bbx', 'obj_name', 'person_bbx'], dtype='object')\n",
      "number of file 38118\n",
      "number of hoi 118840\n",
      "number of verb 117\n",
      "number of verb top 10 hold              18055\n",
      "ride              16281\n",
      "no_interaction    15633\n",
      "sit_on            12352\n",
      "carry              5358\n",
      "straddle           5067\n",
      "stand_on           4868\n",
      "wear               3800\n",
      "sit_at             3217\n",
      "eat_at             2344\n",
      "watch              1918\n",
      "jump               1866\n",
      "read               1509\n",
      "inspect            1444\n",
      "drive              1357\n",
      "stand_under        1305\n",
      "wield              1208\n",
      "fly                 948\n",
      "walk                882\n",
      "herd                819\n",
      "Name: Verbs, dtype: int64\n",
      "number of verb worst 10 stop_at    27\n",
      "clean      26\n",
      "pay        24\n",
      "set        20\n",
      "greet      19\n",
      "spin       18\n",
      "release    16\n",
      "install    14\n",
      "paint      10\n",
      "squeeze     7\n",
      "stab        6\n",
      "lose        6\n",
      "slide       5\n",
      "move        4\n",
      "dry         3\n",
      "sign        2\n",
      "tag         1\n",
      "wave        1\n",
      "flush       1\n",
      "zip         1\n",
      "Name: Verbs, dtype: int64\n",
      "hico_test.csv\n",
      "Index(['Unnamed: 0', 'Verbs', 'img_name', 'obj_bbx', 'obj_name', 'person_bbx'], dtype='object')\n",
      "number of file 9658\n",
      "number of hoi 33645\n",
      "number of verb 117\n",
      "number of verb top 10 hold              5028\n",
      "no_interaction    4344\n",
      "ride              4234\n",
      "sit_on            3097\n",
      "carry             1579\n",
      "straddle          1387\n",
      "stand_on           930\n",
      "wear               903\n",
      "sit_at             688\n",
      "jump               688\n",
      "eat_at             633\n",
      "inspect            553\n",
      "watch              451\n",
      "drive              382\n",
      "read               375\n",
      "stand_under        311\n",
      "wield              311\n",
      "walk               300\n",
      "fly                298\n",
      "open               292\n",
      "Name: Verbs, dtype: int64\n",
      "number of verb worst 10 stop_at    13\n",
      "dry        13\n",
      "paint      11\n",
      "slide      11\n",
      "lose       10\n",
      "sign       10\n",
      "install     9\n",
      "pack        7\n",
      "milk        6\n",
      "light       6\n",
      "release     6\n",
      "move        6\n",
      "pay         5\n",
      "flush       5\n",
      "squeeze     5\n",
      "tag         5\n",
      "greet       5\n",
      "stab        5\n",
      "zip         5\n",
      "wave        5\n",
      "Name: Verbs, dtype: int64\n",
      "vcoco_train.csv\n",
      "Index(['Unnamed: 0', 'Verbs', 'img_name', 'obj_bbx', 'person_bbx'], dtype='object')\n",
      "number of file 2533\n",
      "number of hoi 11445\n",
      "number of verb 30\n",
      "number of verb top 10 stand               2150\n",
      "hold                1838\n",
      "look                1770\n",
      "sit                  935\n",
      "smile                678\n",
      "jump                 319\n",
      "run                  305\n",
      "walk                 300\n",
      "ride                 252\n",
      "lay                  243\n",
      "surf                 239\n",
      "carry                236\n",
      "skateboard           220\n",
      "work_on_computer     210\n",
      "ski                  190\n",
      "snowboard            176\n",
      "eat_obj              171\n",
      "talk_on_phone        167\n",
      "throw                159\n",
      "hit_instr            157\n",
      "Name: Verbs, dtype: int64\n",
      "number of verb worst 10 lay                 243\n",
      "surf                239\n",
      "carry               236\n",
      "skateboard          220\n",
      "work_on_computer    210\n",
      "ski                 190\n",
      "snowboard           176\n",
      "eat_obj             171\n",
      "talk_on_phone       167\n",
      "throw               159\n",
      "hit_instr           157\n",
      "catch               152\n",
      "cut_instr           107\n",
      "hit_obj             106\n",
      "cut_obj              92\n",
      "eat_instr            73\n",
      "kick                 65\n",
      "drink                63\n",
      "read                 51\n",
      "point                15\n",
      "Name: Verbs, dtype: int64\n",
      "vcoco_val.csv\n",
      "Index(['Unnamed: 0', 'Verbs', 'img_name', 'obj_bbx', 'person_bbx'], dtype='object')\n",
      "number of file 2867\n",
      "number of hoi 13298\n",
      "number of verb 30\n",
      "number of verb top 10 stand               2448\n",
      "hold                2163\n",
      "look                2055\n",
      "sit                 1054\n",
      "smile                867\n",
      "jump                 381\n",
      "walk                 356\n",
      "run                  317\n",
      "ski                  310\n",
      "skateboard           269\n",
      "carry                262\n",
      "surf                 259\n",
      "work_on_computer     248\n",
      "ride                 236\n",
      "eat_obj              232\n",
      "lay                  228\n",
      "snowboard            212\n",
      "talk_on_phone        187\n",
      "hit_instr            185\n",
      "catch                161\n",
      "Name: Verbs, dtype: int64\n",
      "number of verb worst 10 skateboard          269\n",
      "carry               262\n",
      "surf                259\n",
      "work_on_computer    248\n",
      "ride                236\n",
      "eat_obj             232\n",
      "lay                 228\n",
      "snowboard           212\n",
      "talk_on_phone       187\n",
      "hit_instr           185\n",
      "catch               161\n",
      "throw               141\n",
      "cut_instr           140\n",
      "cut_obj             140\n",
      "hit_obj             122\n",
      "eat_instr            80\n",
      "kick                 77\n",
      "drink                70\n",
      "read                 65\n",
      "point                23\n",
      "Name: Verbs, dtype: int64\n"
     ]
    }
   ],
   "source": [
    "csv_path = Path('/home/sin/p/code/VSGNet_data_analysis')\n",
    "for csv in list(csv_path.iterdir()) :\n",
    "    print(csv.name)\n",
    "    csv_file = pd.read_csv(str(csv))\n",
    "    print(csv_file.keys())\n",
    "    print('number of file', len(csv_file['img_name'].unique()))\n",
    "    print('number of hoi', len(csv_file))\n",
    "    print('number of verb', len(csv_file['Verbs'].unique()))\n",
    "    print('number of verb top 10', csv_file['Verbs'].value_counts().head(20))\n",
    "    print('number of verb worst 10', csv_file['Verbs'].value_counts().tail(20))\n",
    "    # print('nuber of obj', len(csv_file[''].unique()))\n",
    "\n",
    "    csv_file['Verbs'].value_counts().to_csv(SAVEPATH/f\"{csv.name}_value_count.csv\")\n",
    "\n",
    "    # print(csv_file['Verbs'].value_counts())\n",
    "    #\n",
    "    # if len(csv_file['Verbs'].unique()) > 30:\n",
    "    #     plt.figure(figsize=(20,10))\n",
    "    # else:\n",
    "    #     plt.figure()\n",
    "    # csv_file['Verbs'].value_counts().plot.bar()\n",
    "    #\n",
    "    # plt.title(csv.name)\n",
    "    # plt.savefig(str(SAVEPATH/f'{csv.name}.png'))\n",
    "    # plt.tight_layout()\n",
    "    # plt.show()\n"
   ],
   "metadata": {
    "collapsed": false,
    "pycharm": {
     "name": "#%%\n"
    }
   }
  }
 ],
 "metadata": {
  "kernelspec": {
   "name": "conda-env-.conda-sin-data-py",
   "language": "python",
   "display_name": "Python [conda env:.conda-sin-data]"
  },
  "language_info": {
   "codemirror_mode": {
    "name": "ipython",
    "version": 2
   },
   "file_extension": ".py",
   "mimetype": "text/x-python",
   "name": "python",
   "nbconvert_exporter": "python",
   "pygments_lexer": "ipython2",
   "version": "2.7.6"
  }
 },
 "nbformat": 4,
 "nbformat_minor": 0
}