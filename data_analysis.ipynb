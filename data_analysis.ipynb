{
 "cells": [
  {
   "cell_type": "code",
   "execution_count": 6,
   "metadata": {
    "collapsed": true
   },
   "outputs": [],
   "source": [
    "from pathlib import Path\n",
    "import json\n",
    "import numpy as np\n",
    "import matplotlib.pyplot as plt\n",
    "import cv2\n",
    "import pandas as pd\n",
    "import copy\n",
    "\n",
    "def loadJson(path:Path):\n",
    "    with open(str(path), 'r') as f:\n",
    "        json_file = json.loads(f.read())\n",
    "    return json_file\n"
   ]
  },
  {
   "cell_type": "code",
   "execution_count": 7,
   "outputs": [
    {
     "name": "stdout",
     "output_type": "stream",
     "text": [
      "/home/sin/p/code/VSGNet_data_analysis\n"
     ]
    }
   ],
   "source": [
    "\n",
    "ALLPATH = '/home/sin/p/code/VSGNet/All_data'\n",
    "ALLPATH = Path(ALLPATH)\n",
    "SAVEPATH = '/home/sin/p/code/VSGNet_data_analysis'\n",
    "SAVEPATH = Path(SAVEPATH)\n",
    "print(SAVEPATH)\n",
    "\n",
    "vcoco_path = {path.name.split('_')[0] : path for path in ALLPATH.glob('Anno*vcoco/*')}\n",
    "hico_path = {path.name.split('_')[0] : path for path in ALLPATH.glob('Anno*hico/*')}"
   ],
   "metadata": {
    "collapsed": false,
    "pycharm": {
     "name": "#%%\n"
    }
   }
  },
  {
   "cell_type": "code",
   "execution_count": 8,
   "outputs": [
    {
     "data": {
      "text/plain": "{'test': PosixPath('/home/sin/p/code/VSGNet/All_data/Annotations_vcoco/test_annotations.json'),\n 'train': PosixPath('/home/sin/p/code/VSGNet/All_data/Annotations_vcoco/train_annotations.json'),\n 'val': PosixPath('/home/sin/p/code/VSGNet/All_data/Annotations_vcoco/val_annotations.json')}"
     },
     "execution_count": 8,
     "metadata": {},
     "output_type": "execute_result"
    }
   ],
   "source": [
    "vcoco_path"
   ],
   "metadata": {
    "collapsed": false,
    "pycharm": {
     "name": "#%%\n"
    }
   }
  },
  {
   "cell_type": "code",
   "execution_count": 9,
   "outputs": [
    {
     "data": {
      "text/plain": "{'test': PosixPath('/home/sin/p/code/VSGNet/All_data/Annotations_hico/test_annotations.json'),\n 'train': PosixPath('/home/sin/p/code/VSGNet/All_data/Annotations_hico/train_annotations.json')}"
     },
     "execution_count": 9,
     "metadata": {},
     "output_type": "execute_result"
    }
   ],
   "source": [
    "hico_path"
   ],
   "metadata": {
    "collapsed": false,
    "pycharm": {
     "name": "#%%\n"
    }
   }
  },
  {
   "cell_type": "code",
   "execution_count": 9,
   "outputs": [],
   "source": [],
   "metadata": {
    "collapsed": false,
    "pycharm": {
     "name": "#%%\n"
    }
   }
  },
  {
   "cell_type": "code",
   "execution_count": 10,
   "outputs": [
    {
     "name": "stdout",
     "output_type": "stream",
     "text": [
      "test\n",
      "4946\n",
      "train\n",
      "2533\n",
      "val\n",
      "2867\n"
     ]
    }
   ],
   "source": [
    "for fname, file in list(vcoco_path.items()):\n",
    "    print(fname)\n",
    "    jfile = loadJson(str(file))\n",
    "    print(len(jfile.keys()))\n",
    "\n",
    "    ret = pd.DataFrame()\n",
    "\n",
    "    for key, vals in list(jfile.items()):\n",
    "        # for val in vals:\n",
    "        #     print(key, val)\n",
    "            # dic = {'img_name':key, **(val)}\n",
    "            # dic = pd.DataFrame.from_dict(dic)\n",
    "            #\n",
    "            # print(dic)\n",
    "        # if key == '385154':\n",
    "\n",
    "        dic = {'img_name' : key}\n",
    "        # print(key)\n",
    "        _ret = pd.Series(dic)\n",
    "\n",
    "\n",
    "        for val in vals:\n",
    "            # print(val)\n",
    "            dicpop = copy.deepcopy(val)\n",
    "            dicpop.pop('object')\n",
    "            dic.update(**(dicpop))\n",
    "            dic.update(val['object'])\n",
    "\n",
    "            # print(dic)\n",
    "            _ret = pd.Series(dic)\n",
    "            ret = ret.append(_ret, ignore_index=True)\n",
    "\n",
    "        if len(vals) ==0:\n",
    "            _ret = pd.Series(dic)\n",
    "            ret = ret.append(_ret, ignore_index=True)\n",
    "\n",
    "    ret.to_csv(SAVEPATH/f'vcoco_{fname}.csv')"
   ],
   "metadata": {
    "collapsed": false,
    "pycharm": {
     "name": "#%%\n"
    }
   }
  },
  {
   "cell_type": "code",
   "execution_count": 11,
   "outputs": [
    {
     "name": "stdout",
     "output_type": "stream",
     "text": [
      "test\n",
      "9658\n",
      "train\n",
      "38118\n"
     ]
    }
   ],
   "source": [
    "for fname, file in list(hico_path.items()):\n",
    "    print(fname)\n",
    "    jfile = loadJson(str(file))\n",
    "    print(len(jfile.keys()))\n",
    "\n",
    "    ret = pd.DataFrame()\n",
    "\n",
    "    for key, vals in list(jfile.items()):\n",
    "        # for val in vals:\n",
    "        #     print(key, val)\n",
    "            # dic = {'img_name':key, **(val)}\n",
    "            # dic = pd.DataFrame.from_dict(dic)\n",
    "            #\n",
    "            # print(dic)\n",
    "        # if key == '385154':\n",
    "\n",
    "        dic = {'img_name' : key}\n",
    "        # print(key)\n",
    "        _ret = pd.Series(dic)\n",
    "\n",
    "\n",
    "        for val in vals:\n",
    "            # print(val)\n",
    "            dicpop = copy.deepcopy(val)\n",
    "            dicpop.pop('object')\n",
    "            dic.update(**(dicpop))\n",
    "            dic.update(val['object'])\n",
    "\n",
    "            # print(dic)\n",
    "            _ret = pd.Series(dic)\n",
    "            ret = ret.append(_ret, ignore_index=True)\n",
    "\n",
    "        if len(vals) ==0:\n",
    "            _ret = pd.Series(dic)\n",
    "            ret = ret.append(_ret, ignore_index=True)\n",
    "\n",
    "    ret.to_csv(SAVEPATH/f'hico_{fname}.csv')\n",
    "\n",
    "\n"
   ],
   "metadata": {
    "collapsed": false,
    "pycharm": {
     "name": "#%%\n"
    }
   }
  },
  {
   "cell_type": "code",
   "execution_count": null,
   "outputs": [],
   "source": [
    "for key, file in list(hico_file.items())[:3]:\n",
    "    print(key, file)\n",
    "    jfile = loadJson(str(file))\n",
    "    print(len(jfile.keys()))"
   ],
   "metadata": {
    "collapsed": false,
    "pycharm": {
     "name": "#%%\n"
    }
   }
  },
  {
   "cell_type": "code",
   "execution_count": null,
   "outputs": [],
   "source": [
    "anno_files = {}\n",
    "\n",
    "for name, path in list(path_dict.items()):\n",
    "    # print(name, path)\n",
    "    for inner_path in path.iterdir():\n",
    "        fname = name + '_' + inner_path.name.split('_')[0]\n",
    "\n",
    "        print(fname, inner_path)\n",
    "\n",
    "        anno_files[fname] = loadJson(inner_path)\n"
   ],
   "metadata": {
    "collapsed": false,
    "pycharm": {
     "name": "#%%\n"
    }
   }
  },
  {
   "cell_type": "code",
   "execution_count": null,
   "outputs": [],
   "source": [
    "print(anno_files.keys())\n",
    "\n",
    "for type, file in list(anno_files.items()):\n",
    "    ret = pd.DataFrame()\n",
    "    print(type)\n",
    "    for name, annos in list(file.items())[:1]:\n",
    "        # _ret = pd.DataFrame()\n",
    "        print(name, end='\\r')\n",
    "\n",
    "        for anno in annos:\n",
    "            print(anno)\n",
    "#             _ret = _ret.append({'name':name, **(anno), **(anno['object'])}, ignore_index=True)\n",
    "#             _ret = _ret.drop('object', axis=1)\n",
    "#         ret = ret.append(_ret, ignore_index=True)\n",
    "# #\n",
    "# #\n",
    "#     ret.to_csv(str(SAVEPATH/f'{type}.csv'))\n",
    "    # print(ret)"
   ],
   "metadata": {
    "collapsed": false,
    "pycharm": {
     "name": "#%%\n"
    }
   }
  },
  {
   "cell_type": "code",
   "execution_count": null,
   "outputs": [],
   "source": [
    "csv_path = Path('/home/sin/p/code/VSGNet_data_analysis')\n",
    "for csv in list(csv_path.iterdir()) :\n",
    "    print(csv.name)\n",
    "    csv_file = pd.read_csv(str(csv))\n",
    "    print(csv_file.keys())\n",
    "    print('number of file', len(csv_file['img_name'].unique()))\n",
    "    print('number of hoi', len(csv_file))\n",
    "    print('number of verb', len(csv_file['Verbs'].unique()))\n",
    "    print('number of verb top 10', csv_file['Verbs'].value_counts().head(20))\n",
    "    print('number of verb worst 10', csv_file['Verbs'].value_counts().tail(20))\n",
    "    # print('nuber of obj', len(csv_file[''].unique()))\n",
    "\n",
    "    csv_file['Verbs'].value_counts().to_csv(SAVEPATH/f\"{csv.name}_value_count.csv\")\n",
    "\n",
    "    # print(csv_file['Verbs'].value_counts())\n",
    "    #\n",
    "    # if len(csv_file['Verbs'].unique()) > 30:\n",
    "    #     plt.figure(figsize=(20,10))\n",
    "    # else:\n",
    "    #     plt.figure()\n",
    "    # csv_file['Verbs'].value_counts().plot.bar()\n",
    "    #\n",
    "    # plt.title(csv.name)\n",
    "    # plt.savefig(str(SAVEPATH/f'{csv.name}.png'))\n",
    "    # plt.tight_layout()\n",
    "    # plt.show()\n"
   ],
   "metadata": {
    "collapsed": false,
    "pycharm": {
     "name": "#%%\n"
    }
   }
  }
 ],
 "metadata": {
  "kernelspec": {
   "name": "conda-env-.conda-sin-data-py",
   "language": "python",
   "display_name": "Python [conda env:.conda-sin-data]"
  },
  "language_info": {
   "codemirror_mode": {
    "name": "ipython",
    "version": 2
   },
   "file_extension": ".py",
   "mimetype": "text/x-python",
   "name": "python",
   "nbconvert_exporter": "python",
   "pygments_lexer": "ipython2",
   "version": "2.7.6"
  }
 },
 "nbformat": 4,
 "nbformat_minor": 0
}