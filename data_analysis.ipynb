{
 "cells": [
  {
   "cell_type": "code",
   "execution_count": 115,
   "metadata": {
    "collapsed": true
   },
   "outputs": [],
   "source": [
    "from pathlib import Path\n",
    "import json\n",
    "import numpy as np\n",
    "import matplotlib.pyplot as plt\n",
    "import cv2\n",
    "import pandas as pd\n",
    "\n",
    "\n",
    "def loadJson(path:Path):\n",
    "    with open(str(path), 'r') as f:\n",
    "        json_file = json.loads(f.read())\n",
    "    return json_file\n",
    "\n",
    "def parsePath2Dict(path:Path, key):\n",
    "    path_dict = {path.name: path\n",
    "                for path in PATH.glob('*')\n",
    "                if key in str(path)}\n",
    "    return path_dict"
   ]
  },
  {
   "cell_type": "code",
   "execution_count": 219,
   "outputs": [
    {
     "name": "stdout",
     "output_type": "stream",
     "text": [
      "{'Annotations_vcoco': PosixPath('/home/sin/p/code/VSGNet/All_data/Annotations_vcoco'), 'Annotations_hico': PosixPath('/home/sin/p/code/VSGNet/All_data/Annotations_hico')}\n"
     ]
    }
   ],
   "source": [
    "PATH = Path('/home/sin/p/code/VSGNet/All_data/')\n",
    "path_dict = parsePath2Dict(PATH, 'Anno')\n",
    "print(path_dict)\n",
    "\n",
    "SAVEPATH = Path('/home/sin/p/code/VSGNet_data_analysis')"
   ],
   "metadata": {
    "collapsed": false,
    "pycharm": {
     "name": "#%%\n"
    }
   }
  },
  {
   "cell_type": "code",
   "execution_count": 183,
   "outputs": [
    {
     "name": "stdout",
     "output_type": "stream",
     "text": [
      "Annotations_vcoco_test /home/sin/p/code/VSGNet/All_data/Annotations_vcoco/test_annotations.json\n",
      "Annotations_vcoco_train /home/sin/p/code/VSGNet/All_data/Annotations_vcoco/train_annotations.json\n",
      "Annotations_vcoco_val /home/sin/p/code/VSGNet/All_data/Annotations_vcoco/val_annotations.json\n",
      "Annotations_hico_test /home/sin/p/code/VSGNet/All_data/Annotations_hico/test_annotations.json\n",
      "Annotations_hico_train /home/sin/p/code/VSGNet/All_data/Annotations_hico/train_annotations.json\n"
     ]
    }
   ],
   "source": [
    "anno_files = {}\n",
    "\n",
    "for name, path in list(path_dict.items()):\n",
    "    # print(name, path)\n",
    "    for inner_path in path.iterdir():\n",
    "        fname = name + '_' + inner_path.name.split('_')[0]\n",
    "\n",
    "        print(fname, inner_path)\n",
    "\n",
    "        anno_files[fname] = loadJson(inner_path)\n"
   ],
   "metadata": {
    "collapsed": false,
    "pycharm": {
     "name": "#%%\n"
    }
   }
  },
  {
   "cell_type": "code",
   "execution_count": 289,
   "outputs": [
    {
     "name": "stdout",
     "output_type": "stream",
     "text": [
      "dict_keys(['Annotations_vcoco_test', 'Annotations_vcoco_train', 'Annotations_vcoco_val', 'Annotations_hico_test', 'Annotations_hico_train'])\n",
      "Annotations_vcoco_test\n",
      "{'person_bbx': [0.0, 128.83, 160.64, 476.15999999999997], 'Verbs': 'ride', 'object': {'obj_bbx': [73.59, 392.83, 393.86, 481.96]}}\n",
      "{'person_bbx': [175.44, 165.82, 335.72, 401.9], 'Verbs': 'ride', 'object': {'obj_bbx': [127.03, 328.95, 505.86, 483.0]}}\n",
      "{'person_bbx': [0.0, 128.83, 160.64, 476.15999999999997], 'Verbs': 'sit', 'object': {'obj_bbx': [73.59, 392.83, 393.86, 481.96]}}\n",
      "{'person_bbx': [175.44, 165.82, 335.72, 401.9], 'Verbs': 'sit', 'object': {'obj_bbx': [127.03, 328.95, 505.86, 483.0]}}\n",
      "{'person_bbx': [0.0, 128.83, 160.64, 476.15999999999997], 'Verbs': 'smile', 'object': {'obj_bbx': []}}\n",
      "{'person_bbx': [175.44, 165.82, 335.72, 401.9], 'Verbs': 'smile', 'object': {'obj_bbx': []}}\n",
      "Annotations_vcoco_train\n",
      "{'person_bbx': [0.96, 1.07, 352.04999999999995, 145.35999999999999], 'Verbs': 'cut_obj', 'object': {'obj_bbx': [117.61, 175.46, 522.51, 332.6]}}\n",
      "{'person_bbx': [0.96, 1.07, 352.04999999999995, 145.35999999999999], 'Verbs': 'hold', 'object': {'obj_bbx': [163.17, 50.3, 231.19, 116.42999999999999]}}\n",
      "Annotations_vcoco_val\n",
      "{'person_bbx': [340.25, 211.18, 572.58, 426.71000000000004], 'Verbs': 'hold', 'object': {'obj_bbx': [408.73, 312.56, 483.74, 358.72]}}\n",
      "{'person_bbx': [340.25, 211.18, 572.58, 426.71000000000004], 'Verbs': 'look', 'object': {'obj_bbx': [408.73, 312.56, 483.74, 358.72]}}\n",
      "{'person_bbx': [340.25, 211.18, 572.58, 426.71000000000004], 'Verbs': 'read', 'object': {'obj_bbx': [408.73, 312.56, 483.74, 358.72]}}\n",
      "{'person_bbx': [340.25, 211.18, 572.58, 426.71000000000004], 'Verbs': 'sit', 'object': {'obj_bbx': [398.21, 194.79, 640.0, 427.0]}}\n",
      "Annotations_hico_test\n",
      "{'person_bbx': [310, 277, 395, 398], 'Verbs': 'hold', 'object': {'obj_bbx': [322, 336, 386, 381], 'obj_name': 'book'}}\n",
      "{'person_bbx': [401, 286, 478, 456], 'Verbs': 'hold', 'object': {'obj_bbx': [415, 334, 480, 386], 'obj_name': 'book'}}\n",
      "{'person_bbx': [112, 272, 203, 476], 'Verbs': 'hold', 'object': {'obj_bbx': [118, 338, 193, 374], 'obj_name': 'book'}}\n",
      "{'person_bbx': [225, 278, 328, 499], 'Verbs': 'hold', 'object': {'obj_bbx': [255, 344, 323, 390], 'obj_name': 'book'}}\n",
      "{'person_bbx': [312, 279, 398, 395], 'Verbs': 'open', 'object': {'obj_bbx': [323, 350, 385, 381], 'obj_name': 'book'}}\n",
      "{'person_bbx': [398, 284, 465, 455], 'Verbs': 'open', 'object': {'obj_bbx': [409, 344, 480, 383], 'obj_name': 'book'}}\n",
      "{'person_bbx': [111, 280, 203, 471], 'Verbs': 'open', 'object': {'obj_bbx': [118, 338, 192, 380], 'obj_name': 'book'}}\n",
      "{'person_bbx': [233, 283, 322, 499], 'Verbs': 'open', 'object': {'obj_bbx': [250, 352, 325, 378], 'obj_name': 'book'}}\n",
      "{'person_bbx': [316, 282, 398, 394], 'Verbs': 'read', 'object': {'obj_bbx': [326, 357, 382, 378], 'obj_name': 'book'}}\n",
      "{'person_bbx': [400, 290, 463, 451], 'Verbs': 'read', 'object': {'obj_bbx': [414, 345, 482, 379], 'obj_name': 'book'}}\n",
      "{'person_bbx': [111, 283, 199, 474], 'Verbs': 'read', 'object': {'obj_bbx': [118, 346, 191, 378], 'obj_name': 'book'}}\n",
      "{'person_bbx': [223, 283, 323, 498], 'Verbs': 'read', 'object': {'obj_bbx': [250, 357, 320, 382], 'obj_name': 'book'}}\n",
      "Annotations_hico_train\n",
      "{'person_bbx': [65, 4, 617, 270], 'Verbs': 'hold', 'object': {'obj_bbx': [528, 71, 559, 148], 'obj_name': 'fork'}}\n",
      "{'person_bbx': [55, 1, 602, 258], 'Verbs': 'lift', 'object': {'obj_bbx': [530, 74, 560, 147], 'obj_name': 'fork'}}\n"
     ]
    }
   ],
   "source": [
    "print(anno_files.keys())\n",
    "\n",
    "for type, file in list(anno_files.items()):\n",
    "    ret = pd.DataFrame()\n",
    "    print(type)\n",
    "    for name, annos in list(file.items())[:1]:\n",
    "        # _ret = pd.DataFrame()\n",
    "        print(name, end='\\r')\n",
    "\n",
    "        for anno in annos:\n",
    "            print(anno)\n",
    "#             _ret = _ret.append({'name':name, **(anno), **(anno['object'])}, ignore_index=True)\n",
    "#             _ret = _ret.drop('object', axis=1)\n",
    "#         ret = ret.append(_ret, ignore_index=True)\n",
    "# #\n",
    "# #\n",
    "#     ret.to_csv(str(SAVEPATH/f'{type}.csv'))\n",
    "    # print(ret)"
   ],
   "metadata": {
    "collapsed": false,
    "pycharm": {
     "name": "#%%\n"
    }
   }
  },
  {
   "cell_type": "code",
   "execution_count": 307,
   "outputs": [
    {
     "name": "stdout",
     "output_type": "stream",
     "text": [
      "Annotations_vcoco_train.csv\n",
      "Index(['Unnamed: 0', 'Verbs', 'name', 'obj_bbx', 'person_bbx'], dtype='object')\n",
      "number of file 2527\n",
      "number of hoi 11439\n",
      "number of verb 29\n",
      "number of verb top 10 stand    2150\n",
      "hold     1838\n",
      "look     1770\n",
      "sit       935\n",
      "smile     678\n",
      "jump      319\n",
      "run       305\n",
      "walk      300\n",
      "ride      252\n",
      "lay       243\n",
      "Name: Verbs, dtype: int64\n",
      "number of verb worst 10 hit_instr    157\n",
      "catch        152\n",
      "cut_instr    107\n",
      "hit_obj      106\n",
      "cut_obj       92\n",
      "eat_instr     73\n",
      "kick          65\n",
      "drink         63\n",
      "read          51\n",
      "point         15\n",
      "Name: Verbs, dtype: int64\n",
      "Annotations_vcoco_val.csv\n",
      "Index(['Unnamed: 0', 'Verbs', 'name', 'obj_bbx', 'person_bbx'], dtype='object')\n",
      "number of file 2857\n",
      "number of hoi 13288\n",
      "number of verb 29\n",
      "number of verb top 10 stand         2448\n",
      "hold          2163\n",
      "look          2055\n",
      "sit           1054\n",
      "smile          867\n",
      "jump           381\n",
      "walk           356\n",
      "run            317\n",
      "ski            310\n",
      "skateboard     269\n",
      "Name: Verbs, dtype: int64\n",
      "number of verb worst 10 catch        161\n",
      "throw        141\n",
      "cut_obj      140\n",
      "cut_instr    140\n",
      "hit_obj      122\n",
      "eat_instr     80\n",
      "kick          77\n",
      "drink         70\n",
      "read          65\n",
      "point         23\n",
      "Name: Verbs, dtype: int64\n",
      "Annotations_hico_test.csv\n",
      "Index(['Unnamed: 0', 'Verbs', 'name', 'obj_bbx', 'obj_name', 'person_bbx'], dtype='object')\n",
      "number of file 9658\n",
      "number of hoi 33645\n",
      "number of verb 117\n",
      "number of verb top 10 hold              5028\n",
      "no_interaction    4344\n",
      "ride              4234\n",
      "sit_on            3097\n",
      "carry             1579\n",
      "straddle          1387\n",
      "stand_on           930\n",
      "wear               903\n",
      "jump               688\n",
      "sit_at             688\n",
      "Name: Verbs, dtype: int64\n",
      "number of verb worst 10 release    6\n",
      "light      6\n",
      "tag        5\n",
      "greet      5\n",
      "flush      5\n",
      "stab       5\n",
      "wave       5\n",
      "squeeze    5\n",
      "zip        5\n",
      "pay        5\n",
      "Name: Verbs, dtype: int64\n",
      "Annotations_vcoco_test.csv\n",
      "Index(['Unnamed: 0', 'Verbs', 'name', 'obj_bbx', 'person_bbx'], dtype='object')\n",
      "number of file 4923\n",
      "number of hoi 22339\n",
      "number of verb 29\n",
      "number of verb top 10 stand    4118\n",
      "hold     3608\n",
      "look     3347\n",
      "sit      1916\n",
      "smile    1415\n",
      "run       687\n",
      "jump      635\n",
      "walk      597\n",
      "ride      556\n",
      "surf      486\n",
      "Name: Verbs, dtype: int64\n",
      "number of verb worst 10 catch        246\n",
      "throw        244\n",
      "cut_instr    230\n",
      "hit_obj      226\n",
      "cut_obj      203\n",
      "kick         180\n",
      "read         111\n",
      "eat_instr    100\n",
      "drink         82\n",
      "point         31\n",
      "Name: Verbs, dtype: int64\n",
      "Annotations_hico_train.csv\n",
      "Index(['Unnamed: 0', 'Verbs', 'name', 'obj_bbx', 'obj_name', 'person_bbx'], dtype='object')\n",
      "number of file 38118\n",
      "number of hoi 118840\n",
      "number of verb 117\n",
      "number of verb top 10 hold              18055\n",
      "ride              16281\n",
      "no_interaction    15633\n",
      "sit_on            12352\n",
      "carry              5358\n",
      "straddle           5067\n",
      "stand_on           4868\n",
      "wear               3800\n",
      "sit_at             3217\n",
      "eat_at             2344\n",
      "Name: Verbs, dtype: int64\n",
      "number of verb worst 10 stab     6\n",
      "lose     6\n",
      "slide    5\n",
      "move     4\n",
      "dry      3\n",
      "sign     2\n",
      "flush    1\n",
      "zip      1\n",
      "wave     1\n",
      "tag      1\n",
      "Name: Verbs, dtype: int64\n"
     ]
    }
   ],
   "source": [
    "csv_path = Path('/home/sin/p/code/VSGNet_data_analysis')\n",
    "for csv in list(csv_path.iterdir()) :\n",
    "    print(csv.name)\n",
    "    csv_file = pd.read_csv(str(csv))\n",
    "    print(csv_file.keys())\n",
    "    print('number of file', len(csv_file['name'].unique()))\n",
    "    print('number of hoi', len(csv_file))\n",
    "    print('number of verb', len(csv_file['Verbs'].unique()))\n",
    "    print('number of verb top 10', csv_file['Verbs'].value_counts().head(10))\n",
    "    print('number of verb worst 10', csv_file['Verbs'].value_counts().tail(10))\n",
    "    # print('nuber of obj', len(csv_file[''].unique()))\n",
    "\n",
    "\n",
    "    # print(csv_file['Verbs'].value_counts())\n",
    "    #\n",
    "    # if len(csv_file['Verbs'].unique()) > 30:\n",
    "    #     plt.figure(figsize=(20,10))\n",
    "    # else:\n",
    "    #     plt.figure()\n",
    "    # csv_file['Verbs'].value_counts().plot.bar()\n",
    "    #\n",
    "    # plt.title(csv.name)\n",
    "    # plt.savefig(str(SAVEPATH/f'{csv.name}.png'))\n",
    "    # plt.tight_layout()\n",
    "    # plt.show()\n"
   ],
   "metadata": {
    "collapsed": false,
    "pycharm": {
     "name": "#%%\n"
    }
   }
  }
 ],
 "metadata": {
  "kernelspec": {
   "name": "conda-env-.conda-sin-data-py",
   "language": "python",
   "display_name": "Python [conda env:.conda-sin-data]"
  },
  "language_info": {
   "codemirror_mode": {
    "name": "ipython",
    "version": 2
   },
   "file_extension": ".py",
   "mimetype": "text/x-python",
   "name": "python",
   "nbconvert_exporter": "python",
   "pygments_lexer": "ipython2",
   "version": "2.7.6"
  }
 },
 "nbformat": 4,
 "nbformat_minor": 0
}